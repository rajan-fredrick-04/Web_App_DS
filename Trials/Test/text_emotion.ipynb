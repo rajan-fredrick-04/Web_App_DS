{
 "cells": [
  {
   "cell_type": "markdown",
   "id": "11814610",
   "metadata": {},
   "source": [
    "## Emotion Recognition through NLP (roberta-large model )\n"
   ]
  },
  {
   "cell_type": "markdown",
   "id": "9b0d808d",
   "metadata": {},
   "source": [
    "* Step 1: Install Necessary Libraries\n",
    "    First, you need to install the Hugging Face Transformers library if you haven't already:"
   ]
  },
  {
   "cell_type": "code",
   "execution_count": 3,
   "id": "b43af870",
   "metadata": {
    "scrolled": true
   },
   "outputs": [
    {
     "name": "stdout",
     "output_type": "stream",
     "text": [
      "Requirement already satisfied: transformers in c:\\users\\gjpul\\anaconda3\\lib\\site-packages (4.24.0)\n",
      "Requirement already satisfied: filelock in c:\\users\\gjpul\\anaconda3\\lib\\site-packages (from transformers) (3.9.0)\n",
      "Requirement already satisfied: packaging>=20.0 in c:\\users\\gjpul\\anaconda3\\lib\\site-packages (from transformers) (22.0)\n",
      "Requirement already satisfied: huggingface-hub<1.0,>=0.10.0 in c:\\users\\gjpul\\anaconda3\\lib\\site-packages (from transformers) (0.10.1)\n",
      "Requirement already satisfied: requests in c:\\users\\gjpul\\anaconda3\\lib\\site-packages (from transformers) (2.28.1)\n",
      "Requirement already satisfied: numpy>=1.17 in c:\\users\\gjpul\\anaconda3\\lib\\site-packages (from transformers) (1.23.5)\n",
      "Requirement already satisfied: tqdm>=4.27 in c:\\users\\gjpul\\anaconda3\\lib\\site-packages (from transformers) (4.64.1)\n",
      "Requirement already satisfied: tokenizers!=0.11.3,<0.14,>=0.11.1 in c:\\users\\gjpul\\anaconda3\\lib\\site-packages (from transformers) (0.11.4)\n",
      "Requirement already satisfied: regex!=2019.12.17 in c:\\users\\gjpul\\anaconda3\\lib\\site-packages (from transformers) (2022.7.9)\n",
      "Requirement already satisfied: pyyaml>=5.1 in c:\\users\\gjpul\\anaconda3\\lib\\site-packages (from transformers) (6.0)\n",
      "Requirement already satisfied: typing-extensions>=3.7.4.3 in c:\\users\\gjpul\\anaconda3\\lib\\site-packages (from huggingface-hub<1.0,>=0.10.0->transformers) (4.12.2)\n",
      "Requirement already satisfied: colorama in c:\\users\\gjpul\\anaconda3\\lib\\site-packages (from tqdm>=4.27->transformers) (0.4.6)\n",
      "Requirement already satisfied: idna<4,>=2.5 in c:\\users\\gjpul\\anaconda3\\lib\\site-packages (from requests->transformers) (3.4)\n",
      "Requirement already satisfied: certifi>=2017.4.17 in c:\\users\\gjpul\\anaconda3\\lib\\site-packages (from requests->transformers) (2023.5.7)\n",
      "Requirement already satisfied: urllib3<1.27,>=1.21.1 in c:\\users\\gjpul\\anaconda3\\lib\\site-packages (from requests->transformers) (1.26.14)\n",
      "Requirement already satisfied: charset-normalizer<3,>=2 in c:\\users\\gjpul\\anaconda3\\lib\\site-packages (from requests->transformers) (2.0.4)\n",
      "Note: you may need to restart the kernel to use updated packages.\n"
     ]
    }
   ],
   "source": [
    "pip install transformers\n"
   ]
  },
  {
   "cell_type": "markdown",
   "id": "79fb9508",
   "metadata": {},
   "source": [
    "* Step 2: Load the Pre-trained Model and Tokenizer"
   ]
  },
  {
   "cell_type": "code",
   "execution_count": 26,
   "id": "230f211c",
   "metadata": {},
   "outputs": [],
   "source": [
    "from transformers import AutoTokenizer, AutoModelForSequenceClassification\n",
    "import torch\n",
    "\n",
    "# Load the tokenizer and model\n",
    "tokenizer = AutoTokenizer.from_pretrained(\"j-hartmann/emotion-english-distilroberta-base\")\n",
    "model = AutoModelForSequenceClassification.from_pretrained(\"j-hartmann/emotion-english-distilroberta-base\")"
   ]
  },
  {
   "cell_type": "markdown",
   "id": "002e6f4e",
   "metadata": {},
   "source": [
    "* Step 3: Define a Function to Predict Emotions"
   ]
  },
  {
   "cell_type": "code",
   "execution_count": 27,
   "id": "b1df77e9",
   "metadata": {},
   "outputs": [],
   "source": [
    "def predict_emotion(text):\n",
    "    # Tokenize the input text\n",
    "    inputs = tokenizer(text, return_tensors=\"pt\", padding=True, truncation=True, max_length=512)\n",
    "    # Get the model outputs\n",
    "    outputs = model(**inputs)\n",
    "    # Apply softmax to get probabilities\n",
    "    probabilities = torch.nn.functional.softmax(outputs.logits, dim=-1)\n",
    "    # Get the predicted label\n",
    "    predicted_label = torch.argmax(probabilities, dim=1).item()\n",
    "    # Map label to emotion\n",
    "    label_map = {0: 'anger', 1: 'disgust', 2: 'fear', 3: 'joy', 4: 'neutral', 5: 'sadness', 6: 'surprise'}\n",
    "    return label_map[predicted_label]\n"
   ]
  },
  {
   "cell_type": "code",
   "execution_count": 28,
   "id": "fe556c90",
   "metadata": {},
   "outputs": [
    {
     "name": "stdout",
     "output_type": "stream",
     "text": [
      "Predicted emotion: sadness\n"
     ]
    }
   ],
   "source": [
    "# Example usage\n",
    "text = \"I am so depressed today!\"\n",
    "predicted_emotion = predict_emotion(text)\n",
    "print(f\"Predicted emotion: {predicted_emotion}\")\n"
   ]
  },
  {
   "cell_type": "code",
   "execution_count": 29,
   "id": "b6e7e611",
   "metadata": {},
   "outputs": [
    {
     "name": "stdout",
     "output_type": "stream",
     "text": [
      "TEXT: \n",
      "Today has been a particularly tough day. I woke up feeling a heavy weight on my chest, and as the day progressed, it only seemed to grow heavier. Everything felt off, and I couldn't shake the feeling of emptiness inside me. Small things that usually bring me joy felt meaningless, and even the bright sun outside seemed dull to my eyes. I couldn't muster the energy to smile or engage with anyone, and I just wanted to retreat into myself. It was one of those days where sadness enveloped me completely, and I felt profoundly alone.\n",
      "EMOTION DETECTED: \n",
      "Predicted emotion: sadness\n"
     ]
    }
   ],
   "source": [
    "text_2=\"Today has been a particularly tough day. I woke up feeling a heavy weight on my chest, and as the day progressed, it only seemed to grow heavier. Everything felt off, and I couldn't shake the feeling of emptiness inside me. Small things that usually bring me joy felt meaningless, and even the bright sun outside seemed dull to my eyes. I couldn't muster the energy to smile or engage with anyone, and I just wanted to retreat into myself. It was one of those days where sadness enveloped me completely, and I felt profoundly alone.\"\n",
    "predicted_emotion = predict_emotion(text_2)\n",
    "print(\"TEXT: \")\n",
    "print(text_2)\n",
    "print(\"EMOTION DETECTED: \")\n",
    "print(f\"Predicted emotion: {predicted_emotion}\")\n"
   ]
  },
  {
   "cell_type": "code",
   "execution_count": null,
   "id": "a82f0b85",
   "metadata": {},
   "outputs": [],
   "source": []
  },
  {
   "cell_type": "code",
   "execution_count": null,
   "id": "89cba615",
   "metadata": {},
   "outputs": [],
   "source": []
  },
  {
   "cell_type": "code",
   "execution_count": null,
   "id": "64c190bc",
   "metadata": {},
   "outputs": [],
   "source": []
  }
 ],
 "metadata": {
  "kernelspec": {
   "display_name": "Python 3 (ipykernel)",
   "language": "python",
   "name": "python3"
  },
  "language_info": {
   "codemirror_mode": {
    "name": "ipython",
    "version": 3
   },
   "file_extension": ".py",
   "mimetype": "text/x-python",
   "name": "python",
   "nbconvert_exporter": "python",
   "pygments_lexer": "ipython3",
   "version": "3.10.9"
  }
 },
 "nbformat": 4,
 "nbformat_minor": 5
}
