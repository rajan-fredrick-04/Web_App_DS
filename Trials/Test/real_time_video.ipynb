{
 "cells": [
  {
   "cell_type": "markdown",
   "id": "216750f4",
   "metadata": {},
   "source": [
    "## Real time video for face emotion detection"
   ]
  },
  {
   "cell_type": "code",
   "execution_count": 1,
   "id": "819df6ec",
   "metadata": {},
   "outputs": [
    {
     "name": "stdout",
     "output_type": "stream",
     "text": [
      "WARNING:tensorflow:From C:\\Users\\gjpul\\anaconda3\\lib\\site-packages\\tf_keras\\src\\losses.py:2976: The name tf.losses.sparse_softmax_cross_entropy is deprecated. Please use tf.compat.v1.losses.sparse_softmax_cross_entropy instead.\n",
      "\n"
     ]
    }
   ],
   "source": [
    "import cv2\n",
    "from deepface import DeepFace"
   ]
  },
  {
   "cell_type": "code",
   "execution_count": 2,
   "id": "3a8429c1",
   "metadata": {},
   "outputs": [],
   "source": [
    "#detecting frontal face\n",
    "\n",
    "faceCascade = cv2.CascadeClassifier(cv2.data.haarcascades + \"haarcascade_frontalface_default.xml\")"
   ]
  },
  {
   "cell_type": "code",
   "execution_count": 4,
   "id": "7e123dc8",
   "metadata": {},
   "outputs": [
    {
     "name": "stdout",
     "output_type": "stream",
     "text": [
      "The most common dominant emotion is: happy\n"
     ]
    }
   ],
   "source": [
    "import cv2\n",
    "from deepface import DeepFace\n",
    "import time\n",
    "from collections import Counter\n",
    "\n",
    "# Initialize the webcam\n",
    "cap = cv2.VideoCapture(1)\n",
    "if not cap.isOpened():\n",
    "    cap = cv2.VideoCapture(0)\n",
    "if not cap.isOpened():\n",
    "    raise IOError(\"Cannot open webcam\")\n",
    "\n",
    "# Load the face cascade\n",
    "faceCascade = cv2.CascadeClassifier(cv2.data.haarcascades + 'haarcascade_frontalface_default.xml')\n",
    "\n",
    "# Initialize variables\n",
    "start_time = time.time()\n",
    "emotions = []\n",
    "\n",
    "while True:\n",
    "    ret, frame = cap.read()  # Read one image from the video\n",
    "    if not ret:\n",
    "        break\n",
    "    \n",
    "    # Convert frame to grayscale\n",
    "    gray = cv2.cvtColor(frame, cv2.COLOR_BGR2GRAY)\n",
    "    \n",
    "    # Detect faces\n",
    "    faces = faceCascade.detectMultiScale(gray, 1.1, 4)\n",
    "    \n",
    "    # Analyze the frame using DeepFace\n",
    "    result = DeepFace.analyze(frame, actions=['emotion'], enforce_detection=False)\n",
    "    \n",
    "    # Draw rectangles around detected faces\n",
    "    for (x, y, w, h) in faces:\n",
    "        cv2.rectangle(frame, (x, y), (x + w, y + h), (0, 255, 0), 2)\n",
    "    \n",
    "    # Collect the dominant emotion\n",
    "    if 'dominant_emotion' in result[0]:\n",
    "        dominant_emotion = result[0]['dominant_emotion']\n",
    "        emotions.append(dominant_emotion)\n",
    "        font = cv2.FONT_HERSHEY_SIMPLEX\n",
    "        cv2.putText(frame, dominant_emotion, (50, 50), font, 3, (0, 0, 255), 2, cv2.LINE_AA)\n",
    "    \n",
    "    # Show the frame\n",
    "    cv2.imshow(\"Original Video\", frame)\n",
    "    \n",
    "    # Exit if 'q' is pressed or after 15 seconds\n",
    "    if cv2.waitKey(2) & 0xFF == ord('q') or (time.time() - start_time) > 15:\n",
    "        break\n",
    "\n",
    "# Release the webcam and close windows\n",
    "cap.release()\n",
    "cv2.destroyAllWindows()\n",
    "\n",
    "# Determine the most frequent dominant emotion\n",
    "if emotions:\n",
    "    most_common_emotion = Counter(emotions).most_common(1)[0][0]\n",
    "    print(f\"The most common dominant emotion is: {most_common_emotion}\")\n",
    "else:\n",
    "    print(\"No emotions detected.\")\n"
   ]
  },
  {
   "cell_type": "markdown",
   "id": "78df2af1",
   "metadata": {},
   "source": [
    "Steps from while loop\n",
    "\n",
    "* The loop continues indefinitely until a break condition is met.\n",
    "* cap.read(): Captures a frame from the webcam.\n",
    "* If the frame is not successfully captured (ret is False), the loop breaks.\n",
    "* Converts the captured frame to grayscale for face detection.\n",
    "* Detects faces in the grayscale image.\n",
    "* 1.1: The scale factor for image reduction.\n",
    "* 4: The minimum number of neighbors a rectangle should have to retain it.\n",
    "* Analyzes the frame for emotions using DeepFace.\n",
    "* actions=['emotion']: Specifies that only emotion analysis is required.\n",
    "* enforce_detection=False: Prevents the function from throwing an error if no face is detected.\n",
    "* Loops through all detected faces and draws rectangles around them.\n",
    "* Checks if the dominant emotion is present in the result.\n",
    "* If present, it appends the dominant emotion to the emotions list.\n",
    "* Displays the dominant emotion on the frame using cv2.putText.\n",
    "* Displays the frame with the drawn rectangles and the dominant emotion text.\n",
    "* Exits the loop if the 'q' key is pressed or if 15 seconds have passed.\n",
    "* Releases the webcam and closes all OpenCV windows.\n",
    "* Checks if there are any collected emotions.\n",
    "* Uses Counter to find the most frequent emotion.\n",
    "* Prints the most common dominant emotion. If no emotions are detected, it prints a corresponding message.\n",
    "\n",
    "\n",
    "\n",
    "\n",
    "\n"
   ]
  },
  {
   "cell_type": "markdown",
   "id": "9b94d285",
   "metadata": {},
   "source": [
    "Key Additions:\n",
    "* Timer: Used time.time() to track the start time and break the loop after 15 seconds.\n",
    "* Emotion Collection: Collected the dominant emotion in a list.\n",
    "* Emotion Frequency: Used Counter from the collections module to determine the most common dominant emotion.\n",
    "* Output: Printed the most common dominant emotion after the loop ends."
   ]
  },
  {
   "cell_type": "code",
   "execution_count": null,
   "id": "9f148312",
   "metadata": {},
   "outputs": [],
   "source": []
  }
 ],
 "metadata": {
  "kernelspec": {
   "display_name": "Python 3 (ipykernel)",
   "language": "python",
   "name": "python3"
  },
  "language_info": {
   "codemirror_mode": {
    "name": "ipython",
    "version": 3
   },
   "file_extension": ".py",
   "mimetype": "text/x-python",
   "name": "python",
   "nbconvert_exporter": "python",
   "pygments_lexer": "ipython3",
   "version": "3.10.9"
  }
 },
 "nbformat": 4,
 "nbformat_minor": 5
}
